{
  "nbformat": 4,
  "nbformat_minor": 0,
  "metadata": {
    "colab": {
      "provenance": []
    },
    "kernelspec": {
      "name": "python3",
      "display_name": "Python 3"
    },
    "language_info": {
      "name": "python"
    }
  },
  "cells": [
    {
      "cell_type": "markdown",
      "source": [
        "##Installation (if needed)"
      ],
      "metadata": {
        "id": "LPIrtezDBC_w"
      }
    },
    {
      "cell_type": "code",
      "source": [
        "!pip install pyfaidx"
      ],
      "metadata": {
        "id": "rHtLVVOVA_o6"
      },
      "execution_count": null,
      "outputs": []
    },
    {
      "cell_type": "markdown",
      "source": [
        "##Importing Libraries"
      ],
      "metadata": {
        "id": "oF3ODNxcBJiH"
      }
    },
    {
      "cell_type": "code",
      "source": [
        "import pandas as pd\n",
        "from pyfaidx import Fasta\n",
        "from collections import Counter\n",
        "import itertools\n",
        "import numpy as np"
      ],
      "metadata": {
        "id": "uXUI7otBBJCS"
      },
      "execution_count": null,
      "outputs": []
    },
    {
      "cell_type": "code",
      "source": [
        "df = pd.read_csv(\"/content/drive/MyDrive/tcga_brca_mutations.csv\")\n",
        "print(\"Rows:\", len(df))\n",
        "df.columns"
      ],
      "metadata": {
        "colab": {
          "base_uri": "https://localhost:8080/"
        },
        "id": "ybn1wW64BTZC",
        "outputId": "43393b0d-7b83-4f87-ab32-64e12766ed8f"
      },
      "execution_count": null,
      "outputs": [
        {
          "output_type": "stream",
          "name": "stdout",
          "text": [
            "Rows: 89568\n"
          ]
        },
        {
          "output_type": "execute_result",
          "data": {
            "text/plain": [
              "Index(['Gene', 'Chromosome', 'Position', 'Ref', 'Alt', 'Classification'], dtype='object')"
            ]
          },
          "metadata": {},
          "execution_count": 39
        }
      ]
    },
    {
      "cell_type": "code",
      "source": [
        "# Confirm column names and preview first few rows\n",
        "assert 'Gene' in df.columns or 'Hugo_Symbol' in df.columns, \"Gene column missing!\"\n",
        "\n",
        "# Rename if needed\n",
        "if 'Hugo_Symbol' in df.columns:\n",
        "    df.rename(columns={'Hugo_Symbol': 'Gene'}, inplace=True)\n",
        "\n",
        "df.head()"
      ],
      "metadata": {
        "colab": {
          "base_uri": "https://localhost:8080/",
          "height": 206
        },
        "id": "dPvobCG_BWDg",
        "outputId": "0bd5bba4-e257-465a-85a2-9d9e315f13d9"
      },
      "execution_count": null,
      "outputs": [
        {
          "output_type": "execute_result",
          "data": {
            "text/plain": [
              "      Gene Chromosome  Position                       Ref Alt  \\\n",
              "0     MIB2       chr1   1625276  CCCTCCGCAGGCAAGCCGGCGGAG   -   \n",
              "1   VPS13D       chr1  12283654                         T   C   \n",
              "2  PRAMEF8       chr1  13281907                         C   A   \n",
              "3    NBPF1       chr1  16576355                         C   G   \n",
              "4    SRSF4       chr1  29148880                         C   T   \n",
              "\n",
              "      Classification  \n",
              "0        Splice_Site  \n",
              "1  Missense_Mutation  \n",
              "2  Missense_Mutation  \n",
              "3  Missense_Mutation  \n",
              "4  Missense_Mutation  "
            ],
            "text/html": [
              "\n",
              "  <div id=\"df-2cb9357c-d588-4718-98e8-043d889c5323\" class=\"colab-df-container\">\n",
              "    <div>\n",
              "<style scoped>\n",
              "    .dataframe tbody tr th:only-of-type {\n",
              "        vertical-align: middle;\n",
              "    }\n",
              "\n",
              "    .dataframe tbody tr th {\n",
              "        vertical-align: top;\n",
              "    }\n",
              "\n",
              "    .dataframe thead th {\n",
              "        text-align: right;\n",
              "    }\n",
              "</style>\n",
              "<table border=\"1\" class=\"dataframe\">\n",
              "  <thead>\n",
              "    <tr style=\"text-align: right;\">\n",
              "      <th></th>\n",
              "      <th>Gene</th>\n",
              "      <th>Chromosome</th>\n",
              "      <th>Position</th>\n",
              "      <th>Ref</th>\n",
              "      <th>Alt</th>\n",
              "      <th>Classification</th>\n",
              "    </tr>\n",
              "  </thead>\n",
              "  <tbody>\n",
              "    <tr>\n",
              "      <th>0</th>\n",
              "      <td>MIB2</td>\n",
              "      <td>chr1</td>\n",
              "      <td>1625276</td>\n",
              "      <td>CCCTCCGCAGGCAAGCCGGCGGAG</td>\n",
              "      <td>-</td>\n",
              "      <td>Splice_Site</td>\n",
              "    </tr>\n",
              "    <tr>\n",
              "      <th>1</th>\n",
              "      <td>VPS13D</td>\n",
              "      <td>chr1</td>\n",
              "      <td>12283654</td>\n",
              "      <td>T</td>\n",
              "      <td>C</td>\n",
              "      <td>Missense_Mutation</td>\n",
              "    </tr>\n",
              "    <tr>\n",
              "      <th>2</th>\n",
              "      <td>PRAMEF8</td>\n",
              "      <td>chr1</td>\n",
              "      <td>13281907</td>\n",
              "      <td>C</td>\n",
              "      <td>A</td>\n",
              "      <td>Missense_Mutation</td>\n",
              "    </tr>\n",
              "    <tr>\n",
              "      <th>3</th>\n",
              "      <td>NBPF1</td>\n",
              "      <td>chr1</td>\n",
              "      <td>16576355</td>\n",
              "      <td>C</td>\n",
              "      <td>G</td>\n",
              "      <td>Missense_Mutation</td>\n",
              "    </tr>\n",
              "    <tr>\n",
              "      <th>4</th>\n",
              "      <td>SRSF4</td>\n",
              "      <td>chr1</td>\n",
              "      <td>29148880</td>\n",
              "      <td>C</td>\n",
              "      <td>T</td>\n",
              "      <td>Missense_Mutation</td>\n",
              "    </tr>\n",
              "  </tbody>\n",
              "</table>\n",
              "</div>\n",
              "    <div class=\"colab-df-buttons\">\n",
              "\n",
              "  <div class=\"colab-df-container\">\n",
              "    <button class=\"colab-df-convert\" onclick=\"convertToInteractive('df-2cb9357c-d588-4718-98e8-043d889c5323')\"\n",
              "            title=\"Convert this dataframe to an interactive table.\"\n",
              "            style=\"display:none;\">\n",
              "\n",
              "  <svg xmlns=\"http://www.w3.org/2000/svg\" height=\"24px\" viewBox=\"0 -960 960 960\">\n",
              "    <path d=\"M120-120v-720h720v720H120Zm60-500h600v-160H180v160Zm220 220h160v-160H400v160Zm0 220h160v-160H400v160ZM180-400h160v-160H180v160Zm440 0h160v-160H620v160ZM180-180h160v-160H180v160Zm440 0h160v-160H620v160Z\"/>\n",
              "  </svg>\n",
              "    </button>\n",
              "\n",
              "  <style>\n",
              "    .colab-df-container {\n",
              "      display:flex;\n",
              "      gap: 12px;\n",
              "    }\n",
              "\n",
              "    .colab-df-convert {\n",
              "      background-color: #E8F0FE;\n",
              "      border: none;\n",
              "      border-radius: 50%;\n",
              "      cursor: pointer;\n",
              "      display: none;\n",
              "      fill: #1967D2;\n",
              "      height: 32px;\n",
              "      padding: 0 0 0 0;\n",
              "      width: 32px;\n",
              "    }\n",
              "\n",
              "    .colab-df-convert:hover {\n",
              "      background-color: #E2EBFA;\n",
              "      box-shadow: 0px 1px 2px rgba(60, 64, 67, 0.3), 0px 1px 3px 1px rgba(60, 64, 67, 0.15);\n",
              "      fill: #174EA6;\n",
              "    }\n",
              "\n",
              "    .colab-df-buttons div {\n",
              "      margin-bottom: 4px;\n",
              "    }\n",
              "\n",
              "    [theme=dark] .colab-df-convert {\n",
              "      background-color: #3B4455;\n",
              "      fill: #D2E3FC;\n",
              "    }\n",
              "\n",
              "    [theme=dark] .colab-df-convert:hover {\n",
              "      background-color: #434B5C;\n",
              "      box-shadow: 0px 1px 3px 1px rgba(0, 0, 0, 0.15);\n",
              "      filter: drop-shadow(0px 1px 2px rgba(0, 0, 0, 0.3));\n",
              "      fill: #FFFFFF;\n",
              "    }\n",
              "  </style>\n",
              "\n",
              "    <script>\n",
              "      const buttonEl =\n",
              "        document.querySelector('#df-2cb9357c-d588-4718-98e8-043d889c5323 button.colab-df-convert');\n",
              "      buttonEl.style.display =\n",
              "        google.colab.kernel.accessAllowed ? 'block' : 'none';\n",
              "\n",
              "      async function convertToInteractive(key) {\n",
              "        const element = document.querySelector('#df-2cb9357c-d588-4718-98e8-043d889c5323');\n",
              "        const dataTable =\n",
              "          await google.colab.kernel.invokeFunction('convertToInteractive',\n",
              "                                                    [key], {});\n",
              "        if (!dataTable) return;\n",
              "\n",
              "        const docLinkHtml = 'Like what you see? Visit the ' +\n",
              "          '<a target=\"_blank\" href=https://colab.research.google.com/notebooks/data_table.ipynb>data table notebook</a>'\n",
              "          + ' to learn more about interactive tables.';\n",
              "        element.innerHTML = '';\n",
              "        dataTable['output_type'] = 'display_data';\n",
              "        await google.colab.output.renderOutput(dataTable, element);\n",
              "        const docLink = document.createElement('div');\n",
              "        docLink.innerHTML = docLinkHtml;\n",
              "        element.appendChild(docLink);\n",
              "      }\n",
              "    </script>\n",
              "  </div>\n",
              "\n",
              "\n",
              "    <div id=\"df-55b64395-9d0a-461e-83ce-f46669a9ac27\">\n",
              "      <button class=\"colab-df-quickchart\" onclick=\"quickchart('df-55b64395-9d0a-461e-83ce-f46669a9ac27')\"\n",
              "                title=\"Suggest charts\"\n",
              "                style=\"display:none;\">\n",
              "\n",
              "<svg xmlns=\"http://www.w3.org/2000/svg\" height=\"24px\"viewBox=\"0 0 24 24\"\n",
              "     width=\"24px\">\n",
              "    <g>\n",
              "        <path d=\"M19 3H5c-1.1 0-2 .9-2 2v14c0 1.1.9 2 2 2h14c1.1 0 2-.9 2-2V5c0-1.1-.9-2-2-2zM9 17H7v-7h2v7zm4 0h-2V7h2v10zm4 0h-2v-4h2v4z\"/>\n",
              "    </g>\n",
              "</svg>\n",
              "      </button>\n",
              "\n",
              "<style>\n",
              "  .colab-df-quickchart {\n",
              "      --bg-color: #E8F0FE;\n",
              "      --fill-color: #1967D2;\n",
              "      --hover-bg-color: #E2EBFA;\n",
              "      --hover-fill-color: #174EA6;\n",
              "      --disabled-fill-color: #AAA;\n",
              "      --disabled-bg-color: #DDD;\n",
              "  }\n",
              "\n",
              "  [theme=dark] .colab-df-quickchart {\n",
              "      --bg-color: #3B4455;\n",
              "      --fill-color: #D2E3FC;\n",
              "      --hover-bg-color: #434B5C;\n",
              "      --hover-fill-color: #FFFFFF;\n",
              "      --disabled-bg-color: #3B4455;\n",
              "      --disabled-fill-color: #666;\n",
              "  }\n",
              "\n",
              "  .colab-df-quickchart {\n",
              "    background-color: var(--bg-color);\n",
              "    border: none;\n",
              "    border-radius: 50%;\n",
              "    cursor: pointer;\n",
              "    display: none;\n",
              "    fill: var(--fill-color);\n",
              "    height: 32px;\n",
              "    padding: 0;\n",
              "    width: 32px;\n",
              "  }\n",
              "\n",
              "  .colab-df-quickchart:hover {\n",
              "    background-color: var(--hover-bg-color);\n",
              "    box-shadow: 0 1px 2px rgba(60, 64, 67, 0.3), 0 1px 3px 1px rgba(60, 64, 67, 0.15);\n",
              "    fill: var(--button-hover-fill-color);\n",
              "  }\n",
              "\n",
              "  .colab-df-quickchart-complete:disabled,\n",
              "  .colab-df-quickchart-complete:disabled:hover {\n",
              "    background-color: var(--disabled-bg-color);\n",
              "    fill: var(--disabled-fill-color);\n",
              "    box-shadow: none;\n",
              "  }\n",
              "\n",
              "  .colab-df-spinner {\n",
              "    border: 2px solid var(--fill-color);\n",
              "    border-color: transparent;\n",
              "    border-bottom-color: var(--fill-color);\n",
              "    animation:\n",
              "      spin 1s steps(1) infinite;\n",
              "  }\n",
              "\n",
              "  @keyframes spin {\n",
              "    0% {\n",
              "      border-color: transparent;\n",
              "      border-bottom-color: var(--fill-color);\n",
              "      border-left-color: var(--fill-color);\n",
              "    }\n",
              "    20% {\n",
              "      border-color: transparent;\n",
              "      border-left-color: var(--fill-color);\n",
              "      border-top-color: var(--fill-color);\n",
              "    }\n",
              "    30% {\n",
              "      border-color: transparent;\n",
              "      border-left-color: var(--fill-color);\n",
              "      border-top-color: var(--fill-color);\n",
              "      border-right-color: var(--fill-color);\n",
              "    }\n",
              "    40% {\n",
              "      border-color: transparent;\n",
              "      border-right-color: var(--fill-color);\n",
              "      border-top-color: var(--fill-color);\n",
              "    }\n",
              "    60% {\n",
              "      border-color: transparent;\n",
              "      border-right-color: var(--fill-color);\n",
              "    }\n",
              "    80% {\n",
              "      border-color: transparent;\n",
              "      border-right-color: var(--fill-color);\n",
              "      border-bottom-color: var(--fill-color);\n",
              "    }\n",
              "    90% {\n",
              "      border-color: transparent;\n",
              "      border-bottom-color: var(--fill-color);\n",
              "    }\n",
              "  }\n",
              "</style>\n",
              "\n",
              "      <script>\n",
              "        async function quickchart(key) {\n",
              "          const quickchartButtonEl =\n",
              "            document.querySelector('#' + key + ' button');\n",
              "          quickchartButtonEl.disabled = true;  // To prevent multiple clicks.\n",
              "          quickchartButtonEl.classList.add('colab-df-spinner');\n",
              "          try {\n",
              "            const charts = await google.colab.kernel.invokeFunction(\n",
              "                'suggestCharts', [key], {});\n",
              "          } catch (error) {\n",
              "            console.error('Error during call to suggestCharts:', error);\n",
              "          }\n",
              "          quickchartButtonEl.classList.remove('colab-df-spinner');\n",
              "          quickchartButtonEl.classList.add('colab-df-quickchart-complete');\n",
              "        }\n",
              "        (() => {\n",
              "          let quickchartButtonEl =\n",
              "            document.querySelector('#df-55b64395-9d0a-461e-83ce-f46669a9ac27 button');\n",
              "          quickchartButtonEl.style.display =\n",
              "            google.colab.kernel.accessAllowed ? 'block' : 'none';\n",
              "        })();\n",
              "      </script>\n",
              "    </div>\n",
              "\n",
              "    </div>\n",
              "  </div>\n"
            ],
            "application/vnd.google.colaboratory.intrinsic+json": {
              "type": "dataframe",
              "variable_name": "df",
              "summary": "{\n  \"name\": \"df\",\n  \"rows\": 89568,\n  \"fields\": [\n    {\n      \"column\": \"Gene\",\n      \"properties\": {\n        \"dtype\": \"category\",\n        \"num_unique_values\": 16662,\n        \"samples\": [\n          \"CHN1\",\n          \"C10orf88\",\n          \"OR10T2\"\n        ],\n        \"semantic_type\": \"\",\n        \"description\": \"\"\n      }\n    },\n    {\n      \"column\": \"Chromosome\",\n      \"properties\": {\n        \"dtype\": \"category\",\n        \"num_unique_values\": 24,\n        \"samples\": [\n          \"chr9\",\n          \"chr17\",\n          \"chr1\"\n        ],\n        \"semantic_type\": \"\",\n        \"description\": \"\"\n      }\n    },\n    {\n      \"column\": \"Position\",\n      \"properties\": {\n        \"dtype\": \"number\",\n        \"std\": 58469793,\n        \"min\": 47147,\n        \"max\": 248918338,\n        \"num_unique_values\": 87475,\n        \"samples\": [\n          159753492,\n          51275144,\n          152911229\n        ],\n        \"semantic_type\": \"\",\n        \"description\": \"\"\n      }\n    },\n    {\n      \"column\": \"Ref\",\n      \"properties\": {\n        \"dtype\": \"category\",\n        \"num_unique_values\": 1359,\n        \"samples\": [\n          \"CTC\",\n          \"CATC\",\n          \"ATCCAA\"\n        ],\n        \"semantic_type\": \"\",\n        \"description\": \"\"\n      }\n    },\n    {\n      \"column\": \"Alt\",\n      \"properties\": {\n        \"dtype\": \"category\",\n        \"num_unique_values\": 157,\n        \"samples\": [\n          \"CTGC\",\n          \"TCCG\",\n          \"CGT\"\n        ],\n        \"semantic_type\": \"\",\n        \"description\": \"\"\n      }\n    },\n    {\n      \"column\": \"Classification\",\n      \"properties\": {\n        \"dtype\": \"category\",\n        \"num_unique_values\": 18,\n        \"samples\": [\n          \"Splice_Site\",\n          \"Missense_Mutation\",\n          \"RNA\"\n        ],\n        \"semantic_type\": \"\",\n        \"description\": \"\"\n      }\n    }\n  ]\n}"
            }
          },
          "metadata": {},
          "execution_count": 40
        }
      ]
    },
    {
      "cell_type": "code",
      "source": [
        "# Drop missing critical fields\n",
        "df = df.dropna(subset=['Gene', 'Chromosome', 'Position'])\n",
        "\n",
        "# Standardize chromosome format\n",
        "df['Chromosome'] = df['Chromosome'].astype(str).str.replace('chr', '').str.strip()\n",
        "\n",
        "# Keep valid chromosomes\n",
        "df = df[df['Chromosome'].isin([str(i) for i in range(1, 23)] + ['X', 'Y'])]\n",
        "\n",
        "print(\"Filtered rows:\", len(df))"
      ],
      "metadata": {
        "colab": {
          "base_uri": "https://localhost:8080/"
        },
        "id": "6EeaY4iXBiQC",
        "outputId": "62ce5693-7879-4a68-c018-ad6bc2e07018"
      },
      "execution_count": null,
      "outputs": [
        {
          "output_type": "stream",
          "name": "stdout",
          "text": [
            "Filtered rows: 89568\n"
          ]
        }
      ]
    },
    {
      "cell_type": "markdown",
      "source": [
        "####Extract ±20bp Sequence Context"
      ],
      "metadata": {
        "id": "IxjhQZ7ICdAi"
      }
    },
    {
      "cell_type": "code",
      "source": [
        "# Load reference genome\n",
        "genome = Fasta(\"/content/drive/MyDrive/GRCh38.fa\")\n",
        "\n",
        "def get_context(chrom, pos, flank=20):\n",
        "    try:\n",
        "        return genome[chrom][int(pos)-flank-1:int(pos)+flank].seq\n",
        "    except:\n",
        "        return None\n",
        "\n",
        "df['Context'] = df.apply(lambda row: get_context(row['Chromosome'], row['Position']), axis=1)\n",
        "df = df.dropna(subset=['Context'])\n",
        "print(\"Rows with valid context:\", len(df))\n"
      ],
      "metadata": {
        "colab": {
          "base_uri": "https://localhost:8080/"
        },
        "id": "nP4V21d_Bl66",
        "outputId": "388be3fb-cb4d-464c-cabc-58ed92cc8ecf"
      },
      "execution_count": null,
      "outputs": [
        {
          "output_type": "stream",
          "name": "stdout",
          "text": [
            "Rows with valid context: 89568\n"
          ]
        }
      ]
    },
    {
      "cell_type": "code",
      "source": [
        "cgc = pd.read_csv(\"/content/drive/MyDrive/Census_all.csv\")"
      ],
      "metadata": {
        "id": "8yoFsym4CiBU"
      },
      "execution_count": null,
      "outputs": []
    },
    {
      "cell_type": "code",
      "source": [
        "cgc.columns.tolist()"
      ],
      "metadata": {
        "colab": {
          "base_uri": "https://localhost:8080/"
        },
        "id": "6AE5SuWTC2Eu",
        "outputId": "36c5e14c-c58a-4a0f-d199-14afbbb154c7"
      },
      "execution_count": null,
      "outputs": [
        {
          "output_type": "execute_result",
          "data": {
            "text/plain": [
              "['Gene Symbol',\n",
              " 'Name',\n",
              " 'Entrez GeneId',\n",
              " 'Genome Location',\n",
              " 'Tier',\n",
              " 'Hallmark',\n",
              " 'Chr Band',\n",
              " 'Somatic',\n",
              " 'Germline',\n",
              " 'Tumour Types(Somatic)',\n",
              " 'Tumour Types(Germline)',\n",
              " 'Cancer Syndrome',\n",
              " 'Tissue Type',\n",
              " 'Molecular Genetics',\n",
              " 'Role in Cancer',\n",
              " 'Mutation Types',\n",
              " 'Translocation Partner',\n",
              " 'Other Germline Mut',\n",
              " 'Other Syndrome',\n",
              " 'Synonyms']"
            ]
          },
          "metadata": {},
          "execution_count": 46
        }
      ]
    },
    {
      "cell_type": "code",
      "source": [
        "cgc['Tier'].unique()"
      ],
      "metadata": {
        "colab": {
          "base_uri": "https://localhost:8080/"
        },
        "id": "fM0QH2LnC2_x",
        "outputId": "11f4511c-4a22-4f9d-c5a0-c86f831b8ca8"
      },
      "execution_count": null,
      "outputs": [
        {
          "output_type": "execute_result",
          "data": {
            "text/plain": [
              "array([2, 1])"
            ]
          },
          "metadata": {},
          "execution_count": 47
        }
      ]
    },
    {
      "cell_type": "code",
      "source": [
        "cgc['Tier'] = cgc['Tier'].astype(str).str.strip()  # remove spaces\n",
        "cgc_filtered = cgc[cgc['Tier'].isin(['1', '2'])]\n",
        "driver_genes = set(cgc_filtered['Gene Symbol'].dropna().str.upper())\n",
        "print(\"Number of driver genes:\", len(driver_genes))"
      ],
      "metadata": {
        "colab": {
          "base_uri": "https://localhost:8080/"
        },
        "id": "nAlX8XqkC6Zl",
        "outputId": "58f25c83-862f-4a43-8885-7fd4856f6664"
      },
      "execution_count": null,
      "outputs": [
        {
          "output_type": "stream",
          "name": "stdout",
          "text": [
            "Number of driver genes: 758\n"
          ]
        }
      ]
    },
    {
      "cell_type": "markdown",
      "source": [
        "####Normalize Gene Names and Assign Driver Labels"
      ],
      "metadata": {
        "id": "DY7_hcO1D1GO"
      }
    },
    {
      "cell_type": "code",
      "source": [
        "df['Gene'] = df['Gene'].astype(str).str.strip().str.upper()\n",
        "df['IsDriver'] = df['Gene'].isin(driver_genes)\n",
        "df['Label'] = df['IsDriver'].astype(int)"
      ],
      "metadata": {
        "id": "imXEtX64C9wZ"
      },
      "execution_count": null,
      "outputs": []
    },
    {
      "cell_type": "code",
      "source": [
        "#check class imbalance\n",
        "df['Label'].value_counts()"
      ],
      "metadata": {
        "colab": {
          "base_uri": "https://localhost:8080/",
          "height": 178
        },
        "id": "DleeQfC9DxeF",
        "outputId": "949bf7ee-ccec-4f7c-dd91-a6dabab93705"
      },
      "execution_count": null,
      "outputs": [
        {
          "output_type": "execute_result",
          "data": {
            "text/plain": [
              "Label\n",
              "0    81887\n",
              "1     7681\n",
              "Name: count, dtype: int64"
            ],
            "text/html": [
              "<div>\n",
              "<style scoped>\n",
              "    .dataframe tbody tr th:only-of-type {\n",
              "        vertical-align: middle;\n",
              "    }\n",
              "\n",
              "    .dataframe tbody tr th {\n",
              "        vertical-align: top;\n",
              "    }\n",
              "\n",
              "    .dataframe thead th {\n",
              "        text-align: right;\n",
              "    }\n",
              "</style>\n",
              "<table border=\"1\" class=\"dataframe\">\n",
              "  <thead>\n",
              "    <tr style=\"text-align: right;\">\n",
              "      <th></th>\n",
              "      <th>count</th>\n",
              "    </tr>\n",
              "    <tr>\n",
              "      <th>Label</th>\n",
              "      <th></th>\n",
              "    </tr>\n",
              "  </thead>\n",
              "  <tbody>\n",
              "    <tr>\n",
              "      <th>0</th>\n",
              "      <td>81887</td>\n",
              "    </tr>\n",
              "    <tr>\n",
              "      <th>1</th>\n",
              "      <td>7681</td>\n",
              "    </tr>\n",
              "  </tbody>\n",
              "</table>\n",
              "</div><br><label><b>dtype:</b> int64</label>"
            ]
          },
          "metadata": {},
          "execution_count": 52
        }
      ]
    },
    {
      "cell_type": "markdown",
      "source": [
        "##k-mer feature extraction"
      ],
      "metadata": {
        "id": "4jxMEHUUGmw3"
      }
    },
    {
      "cell_type": "code",
      "source": [
        "# Generate all possible 3-mers\n",
        "bases = ['A', 'C', 'G', 'T']\n",
        "kmers = [''.join(p) for p in itertools.product(bases, repeat=3)]\n",
        "\n",
        "def extract_kmer_counts(seq, k=3):\n",
        "    seq = seq.upper()\n",
        "    kmer_counts = Counter([seq[i:i+k] for i in range(len(seq)-k+1)])\n",
        "    return [kmer_counts.get(kmer, 0) for kmer in kmers]\n",
        "\n",
        "# Apply to all sequences\n",
        "kmer_features = np.array(df['Context'].apply(extract_kmer_counts).tolist())"
      ],
      "metadata": {
        "id": "Qx3YaroOD7gh"
      },
      "execution_count": null,
      "outputs": []
    },
    {
      "cell_type": "code",
      "source": [
        "X = kmer_features\n",
        "y = df['Label'].values\n",
        "\n",
        "print(\"X shape:\", X.shape)\n",
        "print(\"y distribution:\", np.bincount(y))"
      ],
      "metadata": {
        "colab": {
          "base_uri": "https://localhost:8080/"
        },
        "id": "rHQLPTU_G2BO",
        "outputId": "1a2d26ea-5178-4039-fe07-089308bd736d"
      },
      "execution_count": null,
      "outputs": [
        {
          "output_type": "stream",
          "name": "stdout",
          "text": [
            "X shape: (89568, 64)\n",
            "y distribution: [81887  7681]\n"
          ]
        }
      ]
    },
    {
      "cell_type": "code",
      "source": [
        "from sklearn.ensemble import RandomForestClassifier\n",
        "from sklearn.model_selection import train_test_split\n",
        "from sklearn.metrics import classification_report, roc_auc_score, confusion_matrix\n",
        "\n",
        "#Split into train/test sets\n",
        "X_train, X_test, y_train, y_test = train_test_split(\n",
        "    X, y, stratify=y, test_size=0.2, random_state=42\n",
        ")\n",
        "\n",
        "#Train Random Forest\n",
        "rf = RandomForestClassifier(n_estimators=100, random_state=42, n_jobs=-1)\n",
        "rf.fit(X_train, y_train)\n",
        "\n",
        "#Predict and evaluate\n",
        "y_pred = rf.predict(X_test)\n",
        "y_prob = rf.predict_proba(X_test)[:, 1]\n",
        "\n",
        "print(classification_report(y_test, y_pred, digits=3))\n",
        "print(\"AUC:\", roc_auc_score(y_test, y_prob))\n",
        "print(\"Confusion Matrix:\\n\", confusion_matrix(y_test, y_pred))"
      ],
      "metadata": {
        "colab": {
          "base_uri": "https://localhost:8080/"
        },
        "id": "Kt5UVliwG28v",
        "outputId": "7b786069-696f-4b09-898e-0d16790393d1"
      },
      "execution_count": null,
      "outputs": [
        {
          "output_type": "stream",
          "name": "stdout",
          "text": [
            "              precision    recall  f1-score   support\n",
            "\n",
            "           0      0.927     1.000     0.962     16378\n",
            "           1      0.996     0.157     0.271      1536\n",
            "\n",
            "    accuracy                          0.928     17914\n",
            "   macro avg      0.961     0.578     0.617     17914\n",
            "weighted avg      0.933     0.928     0.903     17914\n",
            "\n",
            "AUC: 0.6322428484794135\n",
            "Confusion Matrix:\n",
            " [[16377     1]\n",
            " [ 1295   241]]\n"
          ]
        }
      ]
    },
    {
      "cell_type": "code",
      "source": [
        "import matplotlib.pyplot as plt\n",
        "from sklearn.metrics import roc_curve, auc\n",
        "\n",
        "#FPR, TPR for thresholds\n",
        "fpr, tpr, thresholds = roc_curve(y_test, y_prob)\n",
        "roc_auc = auc(fpr, tpr)\n",
        "\n",
        "# Plot\n",
        "plt.figure(figsize=(6, 5))\n",
        "plt.plot(fpr, tpr, color='darkorange', lw=2, label=f\"ROC Curve (AUC = {roc_auc:.3f})\")\n",
        "plt.plot([0, 1], [0, 1], color='navy', lw=1, linestyle='--')\n",
        "plt.xlim([-0.01, 1.0])\n",
        "plt.ylim([0.0, 1.05])\n",
        "plt.xlabel(\"False Positive Rate\")\n",
        "plt.ylabel(\"True Positive Rate\")\n",
        "plt.title(\"ROC Curve - Random Forest (3-mer features)\")\n",
        "plt.legend(loc=\"lower right\")\n",
        "plt.grid()\n",
        "plt.show()"
      ],
      "metadata": {
        "colab": {
          "base_uri": "https://localhost:8080/",
          "height": 487
        },
        "id": "gy-c4ozvKV3_",
        "outputId": "75572ab1-d166-4d6e-bce5-dd794bbb1163"
      },
      "execution_count": null,
      "outputs": [
        {
          "output_type": "display_data",
          "data": {
            "text/plain": [
              "<Figure size 600x500 with 1 Axes>"
            ],
            "image/png": "[encoded data removed]"
          },
          "metadata": {}
        }
      ]
    },
    {
      "cell_type": "markdown",
      "source": [
        "#####Observations\n",
        "\n",
        "- The ROC curve is only slightly above the diagonal (random guessing line), which indicates'\n",
        "    - The model has some ability to distinguish between driver and non-driver mutations.\n",
        "    - But it's not a strong classifier — AUC of 0.63 is low for reliable predictions.\n",
        "\n",
        "\n",
        "- A perfect recall for non-drivers indicates that the model memorized the background mutations pattern well.\n",
        "\n",
        "- A low recall for drivers indicates the struggle of the model to detect the true driver mutations.\n",
        "\n",
        "- Also, the 3-mer features are too shallow. So the local sequence alosne doesn't carry enough discriminative signal for cancer-driving mutations."
      ],
      "metadata": {
        "id": "s-lN1Z-1KkRz"
      }
    },
    {
      "cell_type": "markdown",
      "source": [
        "####One-hot Encoding"
      ],
      "metadata": {
        "id": "E3qZ1ckILo-f"
      }
    },
    {
      "cell_type": "code",
      "source": [
        "import numpy as np\n",
        "\n",
        "# Define one-hot mapping\n",
        "base_map = {'A': [1, 0, 0, 0],\n",
        "            'C': [0, 1, 0, 0],\n",
        "            'G': [0, 0, 1, 0],\n",
        "            'T': [0, 0, 0, 1],\n",
        "            'N': [0, 0, 0, 0]}  # for unknown bases\n",
        "\n",
        "def one_hot_encode(seq):\n",
        "    return np.array([base_map.get(base, [0, 0, 0, 0]) for base in seq.upper()])\n",
        "\n",
        "X_seq = np.stack(df['Context'].apply(one_hot_encode).values)\n",
        "y_seq = df['Label'].values\n",
        "\n",
        "print(\"Shape:\", X_seq.shape)"
      ],
      "metadata": {
        "colab": {
          "base_uri": "https://localhost:8080/"
        },
        "id": "RsomXO0vKY1j",
        "outputId": "114a2da0-05ae-4c67-95d0-9b80026571eb"
      },
      "execution_count": null,
      "outputs": [
        {
          "output_type": "stream",
          "name": "stdout",
          "text": [
            "Shape: (89568, 41, 4)\n"
          ]
        }
      ]
    },
    {
      "cell_type": "code",
      "source": [
        "from sklearn.model_selection import train_test_split\n",
        "\n",
        "X_train, X_test, y_train, y_test = train_test_split(\n",
        "    X_seq, y_seq, test_size=0.2, stratify=y_seq, random_state=42)"
      ],
      "metadata": {
        "id": "TBK-oEm5L1-o"
      },
      "execution_count": null,
      "outputs": []
    },
    {
      "cell_type": "code",
      "source": [
        "import tensorflow as tf\n",
        "from tensorflow.keras.models import Sequential\n",
        "from tensorflow.keras.layers import Conv1D, MaxPooling1D, Flatten, Dense, Dropout, BatchNormalization\n",
        "from tensorflow.keras.optimizers import Adam\n",
        "from tensorflow.keras.callbacks import EarlyStopping\n",
        "\n",
        "# Define the model\n",
        "model = Sequential([\n",
        "    Conv1D(filters=64, kernel_size=5, activation='relu', input_shape=(41, 4)),\n",
        "    BatchNormalization(),\n",
        "    MaxPooling1D(pool_size=2),\n",
        "    Dropout(0.3),\n",
        "\n",
        "    Conv1D(filters=128, kernel_size=3, activation='relu'),\n",
        "    BatchNormalization(),\n",
        "    MaxPooling1D(pool_size=2),\n",
        "    Dropout(0.3),\n",
        "\n",
        "    Flatten(),\n",
        "    Dense(128, activation='relu'),\n",
        "    Dropout(0.5),\n",
        "    Dense(1, activation='sigmoid')  # binary classification\n",
        "])\n",
        "\n",
        "# Compile the model\n",
        "model.compile(optimizer=Adam(learning_rate=1e-4),\n",
        "              loss='binary_crossentropy',\n",
        "              metrics=['accuracy', tf.keras.metrics.AUC(name='auc')])\n",
        "\n",
        "# Train the model\n",
        "history = model.fit(\n",
        "    X_train, y_train,\n",
        "    validation_split=0.1,\n",
        "    epochs=20,\n",
        "    batch_size=128,\n",
        "    callbacks=[EarlyStopping(patience=3, restore_best_weights=True)],\n",
        "    verbose=2\n",
        ")"
      ],
      "metadata": {
        "colab": {
          "base_uri": "https://localhost:8080/"
        },
        "id": "Ove36KNQL7c2",
        "outputId": "0bad1755-9dfa-42af-ff24-bd1946baf608"
      },
      "execution_count": null,
      "outputs": [
        {
          "output_type": "stream",
          "name": "stderr",
          "text": [
            "/usr/local/lib/python3.11/dist-packages/keras/src/layers/convolutional/base_conv.py:107: UserWarning: Do not pass an `input_shape`/`input_dim` argument to a layer. When using Sequential models, prefer using an `Input(shape)` object as the first layer in the model instead.\n",
            "  super().__init__(activity_regularizer=activity_regularizer, **kwargs)\n"
          ]
        },
        {
          "output_type": "stream",
          "name": "stdout",
          "text": [
            "Epoch 1/20\n",
            "504/504 - 27s - 53ms/step - accuracy: 0.8926 - auc: 0.5054 - loss: 0.3892 - val_accuracy: 0.8141 - val_auc: 0.5302 - val_loss: 0.5276\n",
            "Epoch 2/20\n",
            "504/504 - 38s - 75ms/step - accuracy: 0.9131 - auc: 0.5250 - loss: 0.3205 - val_accuracy: 0.9171 - val_auc: 0.5343 - val_loss: 0.3269\n",
            "Epoch 3/20\n",
            "504/504 - 21s - 42ms/step - accuracy: 0.9146 - auc: 0.5343 - loss: 0.3080 - val_accuracy: 0.9178 - val_auc: 0.5418 - val_loss: 0.3237\n",
            "Epoch 4/20\n",
            "504/504 - 40s - 80ms/step - accuracy: 0.9150 - auc: 0.5389 - loss: 0.3035 - val_accuracy: 0.9178 - val_auc: 0.5392 - val_loss: 0.3195\n",
            "Epoch 5/20\n",
            "504/504 - 40s - 79ms/step - accuracy: 0.9153 - auc: 0.5458 - loss: 0.3000 - val_accuracy: 0.9178 - val_auc: 0.5380 - val_loss: 0.3202\n",
            "Epoch 6/20\n",
            "504/504 - 18s - 36ms/step - accuracy: 0.9156 - auc: 0.5444 - loss: 0.2989 - val_accuracy: 0.9178 - val_auc: 0.5435 - val_loss: 0.3227\n",
            "Epoch 7/20\n",
            "504/504 - 18s - 36ms/step - accuracy: 0.9159 - auc: 0.5538 - loss: 0.2959 - val_accuracy: 0.9185 - val_auc: 0.5485 - val_loss: 0.3154\n",
            "Epoch 8/20\n",
            "504/504 - 20s - 40ms/step - accuracy: 0.9161 - auc: 0.5518 - loss: 0.2953 - val_accuracy: 0.9185 - val_auc: 0.5518 - val_loss: 0.3147\n",
            "Epoch 9/20\n",
            "504/504 - 23s - 45ms/step - accuracy: 0.9163 - auc: 0.5528 - loss: 0.2944 - val_accuracy: 0.9186 - val_auc: 0.5548 - val_loss: 0.3136\n",
            "Epoch 10/20\n",
            "504/504 - 37s - 73ms/step - accuracy: 0.9163 - auc: 0.5528 - loss: 0.2943 - val_accuracy: 0.9186 - val_auc: 0.5578 - val_loss: 0.3093\n",
            "Epoch 11/20\n",
            "504/504 - 23s - 45ms/step - accuracy: 0.9165 - auc: 0.5612 - loss: 0.2922 - val_accuracy: 0.9186 - val_auc: 0.5632 - val_loss: 0.3080\n",
            "Epoch 12/20\n",
            "504/504 - 20s - 40ms/step - accuracy: 0.9169 - auc: 0.5653 - loss: 0.2912 - val_accuracy: 0.9186 - val_auc: 0.5683 - val_loss: 0.3036\n",
            "Epoch 13/20\n",
            "504/504 - 18s - 36ms/step - accuracy: 0.9169 - auc: 0.5692 - loss: 0.2901 - val_accuracy: 0.9188 - val_auc: 0.5693 - val_loss: 0.3066\n",
            "Epoch 14/20\n",
            "504/504 - 18s - 36ms/step - accuracy: 0.9169 - auc: 0.5654 - loss: 0.2907 - val_accuracy: 0.9192 - val_auc: 0.5694 - val_loss: 0.3029\n",
            "Epoch 15/20\n",
            "504/504 - 22s - 44ms/step - accuracy: 0.9170 - auc: 0.5768 - loss: 0.2886 - val_accuracy: 0.9192 - val_auc: 0.5687 - val_loss: 0.3053\n",
            "Epoch 16/20\n",
            "504/504 - 19s - 37ms/step - accuracy: 0.9171 - auc: 0.5716 - loss: 0.2892 - val_accuracy: 0.9192 - val_auc: 0.5800 - val_loss: 0.3033\n",
            "Epoch 17/20\n",
            "504/504 - 18s - 36ms/step - accuracy: 0.9173 - auc: 0.5747 - loss: 0.2882 - val_accuracy: 0.9192 - val_auc: 0.5812 - val_loss: 0.3013\n",
            "Epoch 18/20\n",
            "504/504 - 20s - 41ms/step - accuracy: 0.9173 - auc: 0.5757 - loss: 0.2879 - val_accuracy: 0.9196 - val_auc: 0.5823 - val_loss: 0.3048\n",
            "Epoch 19/20\n",
            "504/504 - 19s - 37ms/step - accuracy: 0.9174 - auc: 0.5768 - loss: 0.2876 - val_accuracy: 0.9195 - val_auc: 0.5827 - val_loss: 0.2996\n",
            "Epoch 20/20\n",
            "504/504 - 18s - 36ms/step - accuracy: 0.9175 - auc: 0.5874 - loss: 0.2860 - val_accuracy: 0.9196 - val_auc: 0.5757 - val_loss: 0.3007\n"
          ]
        }
      ]
    },
    {
      "cell_type": "code",
      "source": [
        "# Evaluate on test set\n",
        "test_loss, test_acc, test_auc = model.evaluate(X_test, y_test)\n",
        "print(f\"\\nTest Accuracy: {test_acc:.3f}\")\n",
        "print(f\"Test AUC: {test_auc:.3f}\")"
      ],
      "metadata": {
        "colab": {
          "base_uri": "https://localhost:8080/"
        },
        "id": "HvHSnvoVNHiu",
        "outputId": "d2a48bd2-1930-4b7c-cfab-c8696f8f6487"
      },
      "execution_count": null,
      "outputs": [
        {
          "output_type": "stream",
          "name": "stdout",
          "text": [
            "\u001b[1m560/560\u001b[0m \u001b[32m━━━━━━━━━━━━━━━━━━━━\u001b[0m\u001b[37m\u001b[0m \u001b[1m5s\u001b[0m 9ms/step - accuracy: 0.9172 - auc: 0.5679 - loss: 0.3040\n",
            "\n",
            "Test Accuracy: 0.917\n",
            "Test AUC: 0.572\n"
          ]
        }
      ]
    },
    {
      "cell_type": "markdown",
      "source": [
        "####Observations\n",
        "\n",
        "- Misleading high accuracy\n",
        "    - The dataset is imbalanced (mostly non-drivers)\n",
        "    - The model is likely biased toward predicting class 0 (passenger)\n",
        "\n",
        "- Low AUC Score (0.57)\n",
        "    - Poor separation between driver and non-driver mutations\n",
        "    - The model struggles to generalize beyond background noise in sequence"
      ],
      "metadata": {
        "id": "Oflo4L7ROox1"
      }
    },
    {
      "cell_type": "markdown",
      "source": [
        "####Adding more features"
      ],
      "metadata": {
        "id": "RSe37xeoPXmB"
      }
    },
    {
      "cell_type": "code",
      "source": [
        "df['MutationType'] = df['Classification'].astype(str).str.strip().str.lower()\n",
        "mutation_dummies = pd.get_dummies(df['MutationType'], prefix='mut')"
      ],
      "metadata": {
        "id": "tU0YayJ1OXDz"
      },
      "execution_count": null,
      "outputs": []
    },
    {
      "cell_type": "code",
      "source": [
        "role_map = cgc.set_index('Gene Symbol')['Role in Cancer'].to_dict()\n",
        "df['GeneRole'] = df['Gene'].map(role_map).fillna('unknown')\n",
        "role_dummies = pd.get_dummies(df['GeneRole'], prefix='role')"
      ],
      "metadata": {
        "id": "ZqX2kyBJPbPr"
      },
      "execution_count": null,
      "outputs": []
    },
    {
      "cell_type": "code",
      "source": [
        "# Combine all features into a single matrix\n",
        "X_extended = np.hstack([\n",
        "    kmer_features,\n",
        "    mutation_dummies.values,\n",
        "    role_dummies.values\n",
        "])"
      ],
      "metadata": {
        "id": "gmKUudT1PdrC"
      },
      "execution_count": null,
      "outputs": []
    },
    {
      "cell_type": "code",
      "source": [
        "df.head()"
      ],
      "metadata": {
        "colab": {
          "base_uri": "https://localhost:8080/",
          "height": 226
        },
        "collapsed": true,
        "id": "4MPEVesDQEjY",
        "outputId": "f6fa5687-7186-41a4-8457-92be15342698"
      },
      "execution_count": null,
      "outputs": [
        {
          "output_type": "execute_result",
          "data": {
            "text/plain": [
              "      Gene Chromosome  Position                       Ref Alt  \\\n",
              "0     MIB2          1   1625276  CCCTCCGCAGGCAAGCCGGCGGAG   -   \n",
              "1   VPS13D          1  12283654                         T   C   \n",
              "2  PRAMEF8          1  13281907                         C   A   \n",
              "3    NBPF1          1  16576355                         C   G   \n",
              "4    SRSF4          1  29148880                         C   T   \n",
              "\n",
              "      Classification                                    Context  IsDriver  \\\n",
              "0        Splice_Site  GCCTGAGGCCTGGTCTGCCACCCTCCGCAGGCAAGCCGGCG     False   \n",
              "1  Missense_Mutation  GAGGCTGCCTCCTGAGGGCATTCTGCACAACGTGAAGTTGG     False   \n",
              "2  Missense_Mutation  CAGGCAGTCGGTCATAACGACCATCTCCAAGGAGGCCTGGA     False   \n",
              "3  Missense_Mutation  TGCCCCTGGGACTTGTCTGGCTCATCCGGAGTGAGGAGGGC     False   \n",
              "4  Missense_Mutation  CCTGCTCCGGCTCCTGCTGCCCCCTTTGCTCCTGCTCCGGC     False   \n",
              "\n",
              "   Label       MutationType GeneRole  \n",
              "0      0        splice_site  unknown  \n",
              "1      0  missense_mutation  unknown  \n",
              "2      0  missense_mutation  unknown  \n",
              "3      0  missense_mutation  unknown  \n",
              "4      0  missense_mutation  unknown  "
            ],
            "text/html": [
              "\n",
              "  <div id=\"df-3d6635a0-3877-409d-b7bc-d60860aca4e2\" class=\"colab-df-container\">\n",
              "    <div>\n",
              "<style scoped>\n",
              "    .dataframe tbody tr th:only-of-type {\n",
              "        vertical-align: middle;\n",
              "    }\n",
              "\n",
              "    .dataframe tbody tr th {\n",
              "        vertical-align: top;\n",
              "    }\n",
              "\n",
              "    .dataframe thead th {\n",
              "        text-align: right;\n",
              "    }\n",
              "</style>\n",
              "<table border=\"1\" class=\"dataframe\">\n",
              "  <thead>\n",
              "    <tr style=\"text-align: right;\">\n",
              "      <th></th>\n",
              "      <th>Gene</th>\n",
              "      <th>Chromosome</th>\n",
              "      <th>Position</th>\n",
              "      <th>Ref</th>\n",
              "      <th>Alt</th>\n",
              "      <th>Classification</th>\n",
              "      <th>Context</th>\n",
              "      <th>IsDriver</th>\n",
              "      <th>Label</th>\n",
              "      <th>MutationType</th>\n",
              "      <th>GeneRole</th>\n",
              "    </tr>\n",
              "  </thead>\n",
              "  <tbody>\n",
              "    <tr>\n",
              "      <th>0</th>\n",
              "      <td>MIB2</td>\n",
              "      <td>1</td>\n",
              "      <td>1625276</td>\n",
              "      <td>CCCTCCGCAGGCAAGCCGGCGGAG</td>\n",
              "      <td>-</td>\n",
              "      <td>Splice_Site</td>\n",
              "      <td>GCCTGAGGCCTGGTCTGCCACCCTCCGCAGGCAAGCCGGCG</td>\n",
              "      <td>False</td>\n",
              "      <td>0</td>\n",
              "      <td>splice_site</td>\n",
              "      <td>unknown</td>\n",
              "    </tr>\n",
              "    <tr>\n",
              "      <th>1</th>\n",
              "      <td>VPS13D</td>\n",
              "      <td>1</td>\n",
              "      <td>12283654</td>\n",
              "      <td>T</td>\n",
              "      <td>C</td>\n",
              "      <td>Missense_Mutation</td>\n",
              "      <td>GAGGCTGCCTCCTGAGGGCATTCTGCACAACGTGAAGTTGG</td>\n",
              "      <td>False</td>\n",
              "      <td>0</td>\n",
              "      <td>missense_mutation</td>\n",
              "      <td>unknown</td>\n",
              "    </tr>\n",
              "    <tr>\n",
              "      <th>2</th>\n",
              "      <td>PRAMEF8</td>\n",
              "      <td>1</td>\n",
              "      <td>13281907</td>\n",
              "      <td>C</td>\n",
              "      <td>A</td>\n",
              "      <td>Missense_Mutation</td>\n",
              "      <td>CAGGCAGTCGGTCATAACGACCATCTCCAAGGAGGCCTGGA</td>\n",
              "      <td>False</td>\n",
              "      <td>0</td>\n",
              "      <td>missense_mutation</td>\n",
              "      <td>unknown</td>\n",
              "    </tr>\n",
              "    <tr>\n",
              "      <th>3</th>\n",
              "      <td>NBPF1</td>\n",
              "      <td>1</td>\n",
              "      <td>16576355</td>\n",
              "      <td>C</td>\n",
              "      <td>G</td>\n",
              "      <td>Missense_Mutation</td>\n",
              "      <td>TGCCCCTGGGACTTGTCTGGCTCATCCGGAGTGAGGAGGGC</td>\n",
              "      <td>False</td>\n",
              "      <td>0</td>\n",
              "      <td>missense_mutation</td>\n",
              "      <td>unknown</td>\n",
              "    </tr>\n",
              "    <tr>\n",
              "      <th>4</th>\n",
              "      <td>SRSF4</td>\n",
              "      <td>1</td>\n",
              "      <td>29148880</td>\n",
              "      <td>C</td>\n",
              "      <td>T</td>\n",
              "      <td>Missense_Mutation</td>\n",
              "      <td>CCTGCTCCGGCTCCTGCTGCCCCCTTTGCTCCTGCTCCGGC</td>\n",
              "      <td>False</td>\n",
              "      <td>0</td>\n",
              "      <td>missense_mutation</td>\n",
              "      <td>unknown</td>\n",
              "    </tr>\n",
              "  </tbody>\n",
              "</table>\n",
              "</div>\n",
              "    <div class=\"colab-df-buttons\">\n",
              "\n",
              "  <div class=\"colab-df-container\">\n",
              "    <button class=\"colab-df-convert\" onclick=\"convertToInteractive('df-3d6635a0-3877-409d-b7bc-d60860aca4e2')\"\n",
              "            title=\"Convert this dataframe to an interactive table.\"\n",
              "            style=\"display:none;\">\n",
              "\n",
              "  <svg xmlns=\"http://www.w3.org/2000/svg\" height=\"24px\" viewBox=\"0 -960 960 960\">\n",
              "    <path d=\"M120-120v-720h720v720H120Zm60-500h600v-160H180v160Zm220 220h160v-160H400v160Zm0 220h160v-160H400v160ZM180-400h160v-160H180v160Zm440 0h160v-160H620v160ZM180-180h160v-160H180v160Zm440 0h160v-160H620v160Z\"/>\n",
              "  </svg>\n",
              "    </button>\n",
              "\n",
              "  <style>\n",
              "    .colab-df-container {\n",
              "      display:flex;\n",
              "      gap: 12px;\n",
              "    }\n",
              "\n",
              "    .colab-df-convert {\n",
              "      background-color: #E8F0FE;\n",
              "      border: none;\n",
              "      border-radius: 50%;\n",
              "      cursor: pointer;\n",
              "      display: none;\n",
              "      fill: #1967D2;\n",
              "      height: 32px;\n",
              "      padding: 0 0 0 0;\n",
              "      width: 32px;\n",
              "    }\n",
              "\n",
              "    .colab-df-convert:hover {\n",
              "      background-color: #E2EBFA;\n",
              "      box-shadow: 0px 1px 2px rgba(60, 64, 67, 0.3), 0px 1px 3px 1px rgba(60, 64, 67, 0.15);\n",
              "      fill: #174EA6;\n",
              "    }\n",
              "\n",
              "    .colab-df-buttons div {\n",
              "      margin-bottom: 4px;\n",
              "    }\n",
              "\n",
              "    [theme=dark] .colab-df-convert {\n",
              "      background-color: #3B4455;\n",
              "      fill: #D2E3FC;\n",
              "    }\n",
              "\n",
              "    [theme=dark] .colab-df-convert:hover {\n",
              "      background-color: #434B5C;\n",
              "      box-shadow: 0px 1px 3px 1px rgba(0, 0, 0, 0.15);\n",
              "      filter: drop-shadow(0px 1px 2px rgba(0, 0, 0, 0.3));\n",
              "      fill: #FFFFFF;\n",
              "    }\n",
              "  </style>\n",
              "\n",
              "    <script>\n",
              "      const buttonEl =\n",
              "        document.querySelector('#df-3d6635a0-3877-409d-b7bc-d60860aca4e2 button.colab-df-convert');\n",
              "      buttonEl.style.display =\n",
              "        google.colab.kernel.accessAllowed ? 'block' : 'none';\n",
              "\n",
              "      async function convertToInteractive(key) {\n",
              "        const element = document.querySelector('#df-3d6635a0-3877-409d-b7bc-d60860aca4e2');\n",
              "        const dataTable =\n",
              "          await google.colab.kernel.invokeFunction('convertToInteractive',\n",
              "                                                    [key], {});\n",
              "        if (!dataTable) return;\n",
              "\n",
              "        const docLinkHtml = 'Like what you see? Visit the ' +\n",
              "          '<a target=\"_blank\" href=https://colab.research.google.com/notebooks/data_table.ipynb>data table notebook</a>'\n",
              "          + ' to learn more about interactive tables.';\n",
              "        element.innerHTML = '';\n",
              "        dataTable['output_type'] = 'display_data';\n",
              "        await google.colab.output.renderOutput(dataTable, element);\n",
              "        const docLink = document.createElement('div');\n",
              "        docLink.innerHTML = docLinkHtml;\n",
              "        element.appendChild(docLink);\n",
              "      }\n",
              "    </script>\n",
              "  </div>\n",
              "\n",
              "\n",
              "    <div id=\"df-18c16898-2735-448d-a92d-28c0b71123fc\">\n",
              "      <button class=\"colab-df-quickchart\" onclick=\"quickchart('df-18c16898-2735-448d-a92d-28c0b71123fc')\"\n",
              "                title=\"Suggest charts\"\n",
              "                style=\"display:none;\">\n",
              "\n",
              "<svg xmlns=\"http://www.w3.org/2000/svg\" height=\"24px\"viewBox=\"0 0 24 24\"\n",
              "     width=\"24px\">\n",
              "    <g>\n",
              "        <path d=\"M19 3H5c-1.1 0-2 .9-2 2v14c0 1.1.9 2 2 2h14c1.1 0 2-.9 2-2V5c0-1.1-.9-2-2-2zM9 17H7v-7h2v7zm4 0h-2V7h2v10zm4 0h-2v-4h2v4z\"/>\n",
              "    </g>\n",
              "</svg>\n",
              "      </button>\n",
              "\n",
              "<style>\n",
              "  .colab-df-quickchart {\n",
              "      --bg-color: #E8F0FE;\n",
              "      --fill-color: #1967D2;\n",
              "      --hover-bg-color: #E2EBFA;\n",
              "      --hover-fill-color: #174EA6;\n",
              "      --disabled-fill-color: #AAA;\n",
              "      --disabled-bg-color: #DDD;\n",
              "  }\n",
              "\n",
              "  [theme=dark] .colab-df-quickchart {\n",
              "      --bg-color: #3B4455;\n",
              "      --fill-color: #D2E3FC;\n",
              "      --hover-bg-color: #434B5C;\n",
              "      --hover-fill-color: #FFFFFF;\n",
              "      --disabled-bg-color: #3B4455;\n",
              "      --disabled-fill-color: #666;\n",
              "  }\n",
              "\n",
              "  .colab-df-quickchart {\n",
              "    background-color: var(--bg-color);\n",
              "    border: none;\n",
              "    border-radius: 50%;\n",
              "    cursor: pointer;\n",
              "    display: none;\n",
              "    fill: var(--fill-color);\n",
              "    height: 32px;\n",
              "    padding: 0;\n",
              "    width: 32px;\n",
              "  }\n",
              "\n",
              "  .colab-df-quickchart:hover {\n",
              "    background-color: var(--hover-bg-color);\n",
              "    box-shadow: 0 1px 2px rgba(60, 64, 67, 0.3), 0 1px 3px 1px rgba(60, 64, 67, 0.15);\n",
              "    fill: var(--button-hover-fill-color);\n",
              "  }\n",
              "\n",
              "  .colab-df-quickchart-complete:disabled,\n",
              "  .colab-df-quickchart-complete:disabled:hover {\n",
              "    background-color: var(--disabled-bg-color);\n",
              "    fill: var(--disabled-fill-color);\n",
              "    box-shadow: none;\n",
              "  }\n",
              "\n",
              "  .colab-df-spinner {\n",
              "    border: 2px solid var(--fill-color);\n",
              "    border-color: transparent;\n",
              "    border-bottom-color: var(--fill-color);\n",
              "    animation:\n",
              "      spin 1s steps(1) infinite;\n",
              "  }\n",
              "\n",
              "  @keyframes spin {\n",
              "    0% {\n",
              "      border-color: transparent;\n",
              "      border-bottom-color: var(--fill-color);\n",
              "      border-left-color: var(--fill-color);\n",
              "    }\n",
              "    20% {\n",
              "      border-color: transparent;\n",
              "      border-left-color: var(--fill-color);\n",
              "      border-top-color: var(--fill-color);\n",
              "    }\n",
              "    30% {\n",
              "      border-color: transparent;\n",
              "      border-left-color: var(--fill-color);\n",
              "      border-top-color: var(--fill-color);\n",
              "      border-right-color: var(--fill-color);\n",
              "    }\n",
              "    40% {\n",
              "      border-color: transparent;\n",
              "      border-right-color: var(--fill-color);\n",
              "      border-top-color: var(--fill-color);\n",
              "    }\n",
              "    60% {\n",
              "      border-color: transparent;\n",
              "      border-right-color: var(--fill-color);\n",
              "    }\n",
              "    80% {\n",
              "      border-color: transparent;\n",
              "      border-right-color: var(--fill-color);\n",
              "      border-bottom-color: var(--fill-color);\n",
              "    }\n",
              "    90% {\n",
              "      border-color: transparent;\n",
              "      border-bottom-color: var(--fill-color);\n",
              "    }\n",
              "  }\n",
              "</style>\n",
              "\n",
              "      <script>\n",
              "        async function quickchart(key) {\n",
              "          const quickchartButtonEl =\n",
              "            document.querySelector('#' + key + ' button');\n",
              "          quickchartButtonEl.disabled = true;  // To prevent multiple clicks.\n",
              "          quickchartButtonEl.classList.add('colab-df-spinner');\n",
              "          try {\n",
              "            const charts = await google.colab.kernel.invokeFunction(\n",
              "                'suggestCharts', [key], {});\n",
              "          } catch (error) {\n",
              "            console.error('Error during call to suggestCharts:', error);\n",
              "          }\n",
              "          quickchartButtonEl.classList.remove('colab-df-spinner');\n",
              "          quickchartButtonEl.classList.add('colab-df-quickchart-complete');\n",
              "        }\n",
              "        (() => {\n",
              "          let quickchartButtonEl =\n",
              "            document.querySelector('#df-18c16898-2735-448d-a92d-28c0b71123fc button');\n",
              "          quickchartButtonEl.style.display =\n",
              "            google.colab.kernel.accessAllowed ? 'block' : 'none';\n",
              "        })();\n",
              "      </script>\n",
              "    </div>\n",
              "\n",
              "    </div>\n",
              "  </div>\n"
            ],
            "application/vnd.google.colaboratory.intrinsic+json": {
              "type": "dataframe",
              "variable_name": "df",
              "summary": "{\n  \"name\": \"df\",\n  \"rows\": 89568,\n  \"fields\": [\n    {\n      \"column\": \"Gene\",\n      \"properties\": {\n        \"dtype\": \"category\",\n        \"num_unique_values\": 16662,\n        \"samples\": [\n          \"CHN1\",\n          \"C10ORF88\",\n          \"OR10T2\"\n        ],\n        \"semantic_type\": \"\",\n        \"description\": \"\"\n      }\n    },\n    {\n      \"column\": \"Chromosome\",\n      \"properties\": {\n        \"dtype\": \"category\",\n        \"num_unique_values\": 24,\n        \"samples\": [\n          \"9\",\n          \"17\",\n          \"1\"\n        ],\n        \"semantic_type\": \"\",\n        \"description\": \"\"\n      }\n    },\n    {\n      \"column\": \"Position\",\n      \"properties\": {\n        \"dtype\": \"number\",\n        \"std\": 58469793,\n        \"min\": 47147,\n        \"max\": 248918338,\n        \"num_unique_values\": 87475,\n        \"samples\": [\n          159753492,\n          51275144,\n          152911229\n        ],\n        \"semantic_type\": \"\",\n        \"description\": \"\"\n      }\n    },\n    {\n      \"column\": \"Ref\",\n      \"properties\": {\n        \"dtype\": \"category\",\n        \"num_unique_values\": 1359,\n        \"samples\": [\n          \"CTC\",\n          \"CATC\",\n          \"ATCCAA\"\n        ],\n        \"semantic_type\": \"\",\n        \"description\": \"\"\n      }\n    },\n    {\n      \"column\": \"Alt\",\n      \"properties\": {\n        \"dtype\": \"category\",\n        \"num_unique_values\": 157,\n        \"samples\": [\n          \"CTGC\",\n          \"TCCG\",\n          \"CGT\"\n        ],\n        \"semantic_type\": \"\",\n        \"description\": \"\"\n      }\n    },\n    {\n      \"column\": \"Classification\",\n      \"properties\": {\n        \"dtype\": \"category\",\n        \"num_unique_values\": 18,\n        \"samples\": [\n          \"Splice_Site\",\n          \"Missense_Mutation\",\n          \"RNA\"\n        ],\n        \"semantic_type\": \"\",\n        \"description\": \"\"\n      }\n    },\n    {\n      \"column\": \"Context\",\n      \"properties\": {\n        \"dtype\": \"string\",\n        \"num_unique_values\": 87474,\n        \"samples\": [\n          \"TTTATTGAGCGGCCTGCAATCTTCAAACCCACCATGGACAG\",\n          \"CAACGCCAGCATCGGGAAGACGCTGAACGAGGGGGAGCACT\",\n          \"CTCTATTAATATCAGCACTTACTGTGATTTTTCATCTGTCT\"\n        ],\n        \"semantic_type\": \"\",\n        \"description\": \"\"\n      }\n    },\n    {\n      \"column\": \"IsDriver\",\n      \"properties\": {\n        \"dtype\": \"boolean\",\n        \"num_unique_values\": 2,\n        \"samples\": [\n          true,\n          false\n        ],\n        \"semantic_type\": \"\",\n        \"description\": \"\"\n      }\n    },\n    {\n      \"column\": \"Label\",\n      \"properties\": {\n        \"dtype\": \"number\",\n        \"std\": 0,\n        \"min\": 0,\n        \"max\": 1,\n        \"num_unique_values\": 2,\n        \"samples\": [\n          1,\n          0\n        ],\n        \"semantic_type\": \"\",\n        \"description\": \"\"\n      }\n    },\n    {\n      \"column\": \"MutationType\",\n      \"properties\": {\n        \"dtype\": \"category\",\n        \"num_unique_values\": 18,\n        \"samples\": [\n          \"splice_site\",\n          \"missense_mutation\"\n        ],\n        \"semantic_type\": \"\",\n        \"description\": \"\"\n      }\n    },\n    {\n      \"column\": \"GeneRole\",\n      \"properties\": {\n        \"dtype\": \"category\",\n        \"num_unique_values\": 9,\n        \"samples\": [\n          \"oncogene, TSG, fusion\",\n          \"TSG, fusion\"\n        ],\n        \"semantic_type\": \"\",\n        \"description\": \"\"\n      }\n    }\n  ]\n}"
            }
          },
          "metadata": {},
          "execution_count": 65
        }
      ]
    },
    {
      "cell_type": "code",
      "source": [
        "y_extended = df['Label'].values\n",
        "\n",
        "print(\"Extended feature shape:\", X_extended.shape)"
      ],
      "metadata": {
        "colab": {
          "base_uri": "https://localhost:8080/"
        },
        "id": "TlcOLpdtQPEO",
        "outputId": "ee7a3faa-8971-4ecd-ccf2-043fa8686108"
      },
      "execution_count": null,
      "outputs": [
        {
          "output_type": "stream",
          "name": "stdout",
          "text": [
            "Extended feature shape: (89568, 91)\n"
          ]
        }
      ]
    },
    {
      "cell_type": "code",
      "source": [
        "from sklearn.ensemble import RandomForestClassifier\n",
        "from sklearn.model_selection import train_test_split\n",
        "from sklearn.metrics import classification_report, roc_auc_score\n",
        "\n",
        "X_train, X_test, y_train, y_test = train_test_split(\n",
        "    X_extended, y_extended, stratify=y_extended, test_size=0.2, random_state=42\n",
        ")\n",
        "\n",
        "rf_ext = RandomForestClassifier(n_estimators=100, random_state=42)\n",
        "rf_ext.fit(X_train, y_train)\n",
        "\n",
        "y_pred = rf_ext.predict(X_test)\n",
        "y_prob = rf_ext.predict_proba(X_test)[:, 1]\n",
        "\n",
        "print(classification_report(y_test, y_pred, digits=3))\n",
        "print(\"AUC:\", roc_auc_score(y_test, y_prob))"
      ],
      "metadata": {
        "colab": {
          "base_uri": "https://localhost:8080/"
        },
        "id": "q96wUY4SQYHS",
        "outputId": "9e8b27ff-5687-4424-c9bc-b197ccd6826e"
      },
      "execution_count": null,
      "outputs": [
        {
          "output_type": "stream",
          "name": "stdout",
          "text": [
            "              precision    recall  f1-score   support\n",
            "\n",
            "           0      0.995     1.000     0.998     16378\n",
            "           1      1.000     0.947     0.973      1536\n",
            "\n",
            "    accuracy                          0.995     17914\n",
            "   macro avg      0.998     0.974     0.985     17914\n",
            "weighted avg      0.996     0.995     0.995     17914\n",
            "\n",
            "AUC: 0.9785028848086356\n"
          ]
        }
      ]
    },
    {
      "cell_type": "markdown",
      "source": [
        "###Observations\n",
        "\n",
        "\n",
        "**The Random Forest was able to learn highly discriminative patterns from this combined feature space — especially when you labeled mutations at the gene level using COSMIC.**"
      ],
      "metadata": {
        "id": "0OA_5VaVUSYw"
      }
    },
    {
      "cell_type": "code",
      "source": [],
      "metadata": {
        "id": "S-i0vrATUR8Z"
      },
      "execution_count": null,
      "outputs": []
    },
    {
      "cell_type": "code",
      "source": [],
      "metadata": {
        "id": "XiVlkZgQQaQa"
      },
      "execution_count": null,
      "outputs": []
    }
  ]
}